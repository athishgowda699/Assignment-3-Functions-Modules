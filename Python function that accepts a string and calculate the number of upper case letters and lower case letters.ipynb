{
 "cells": [
  {
   "cell_type": "code",
   "execution_count": 1,
   "id": "38097091",
   "metadata": {},
   "outputs": [
    {
     "name": "stdout",
     "output_type": "stream",
     "text": [
      "Enter a String : The quick Brow Fox\n",
      "No. of Upper case characters : 3\n",
      "No. of Lower case characters : 12\n"
     ]
    }
   ],
   "source": [
    "def str2(a):\n",
    "\n",
    "    upper=0\n",
    "    lower=0\n",
    "    for i in a:\n",
    "        if i==' ':\n",
    "            continue\n",
    "        \n",
    "        elif i==i.upper():\n",
    "            upper+=1\n",
    "        else:\n",
    "            lower+=1\n",
    "            \n",
    "    print('No. of Upper case characters : {}'.format(upper))\n",
    "    print('No. of Lower case characters : {}'.format(lower))\n",
    "\n",
    "    \n",
    "\n",
    "\n",
    "str2(input('Enter a String : '))"
   ]
  },
  {
   "cell_type": "code",
   "execution_count": null,
   "id": "3b80141c",
   "metadata": {},
   "outputs": [],
   "source": []
  }
 ],
 "metadata": {
  "kernelspec": {
   "display_name": "Python 3 (ipykernel)",
   "language": "python",
   "name": "python3"
  },
  "language_info": {
   "codemirror_mode": {
    "name": "ipython",
    "version": 3
   },
   "file_extension": ".py",
   "mimetype": "text/x-python",
   "name": "python",
   "nbconvert_exporter": "python",
   "pygments_lexer": "ipython3",
   "version": "3.10.1"
  }
 },
 "nbformat": 4,
 "nbformat_minor": 5
}
