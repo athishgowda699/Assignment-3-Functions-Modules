{
 "cells": [
  {
   "cell_type": "code",
   "execution_count": 2,
   "id": "7ddf0457",
   "metadata": {},
   "outputs": [
    {
     "name": "stdout",
     "output_type": "stream",
     "text": [
      "Reversed order is : dcba4321 \n"
     ]
    }
   ],
   "source": [
    "def reverse(str1):\n",
    "    reverse=str1[::-1]\n",
    "    return reverse\n",
    "\n",
    "str1=\"1234abcd\"\n",
    "result=reverse(str1)\n",
    "print('Reversed order is : {} '.format(result))"
   ]
  },
  {
   "cell_type": "code",
   "execution_count": null,
   "id": "5eef807a",
   "metadata": {},
   "outputs": [],
   "source": []
  }
 ],
 "metadata": {
  "kernelspec": {
   "display_name": "Python 3 (ipykernel)",
   "language": "python",
   "name": "python3"
  },
  "language_info": {
   "codemirror_mode": {
    "name": "ipython",
    "version": 3
   },
   "file_extension": ".py",
   "mimetype": "text/x-python",
   "name": "python",
   "nbconvert_exporter": "python",
   "pygments_lexer": "ipython3",
   "version": "3.10.1"
  }
 },
 "nbformat": 4,
 "nbformat_minor": 5
}
