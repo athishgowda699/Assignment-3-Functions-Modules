{
 "cells": [
  {
   "cell_type": "code",
   "execution_count": 1,
   "id": "6dfd5dc2",
   "metadata": {},
   "outputs": [
    {
     "name": "stdout",
     "output_type": "stream",
     "text": [
      "Sum of a list is : 20\n"
     ]
    }
   ],
   "source": [
    "def sum_list(list1): \n",
    "     if len(list1)== 1: \n",
    "        return list1[0] \n",
    "     else: \n",
    "        return list1[0]+sum_list(list1[1:]) \n",
    "    \n",
    "list1 = [8,2,3,0,7] \n",
    "result=sum_list(list1)\n",
    "print('Sum of a list is : {}'.format(result))"
   ]
  },
  {
   "cell_type": "code",
   "execution_count": 2,
   "id": "6af2fa9a",
   "metadata": {},
   "outputs": [
    {
     "name": "stdout",
     "output_type": "stream",
     "text": [
      "Sum of a list is : 20\n"
     ]
    }
   ],
   "source": [
    "def sum_list(x):\n",
    "    sum_list=sum(x)\n",
    "    return sum_list\n",
    "\n",
    "a=(8,2,3,0,7)\n",
    "result=sum_list(a)\n",
    "print('Sum of a list is : {}'.format(result))"
   ]
  },
  {
   "cell_type": "code",
   "execution_count": 1,
   "id": "34e21b4c",
   "metadata": {},
   "outputs": [
    {
     "name": "stdout",
     "output_type": "stream",
     "text": [
      "total sum is 20\n"
     ]
    }
   ],
   "source": [
    "def a(x):\n",
    "    b=sum(x)\n",
    "    print('total sum is {}'.format(b))\n",
    "        \n",
    "\n",
    "\n",
    "a([8,2,3,0,7])"
   ]
  },
  {
   "cell_type": "code",
   "execution_count": null,
   "id": "ddde047e",
   "metadata": {},
   "outputs": [],
   "source": []
  }
 ],
 "metadata": {
  "kernelspec": {
   "display_name": "Python 3 (ipykernel)",
   "language": "python",
   "name": "python3"
  },
  "language_info": {
   "codemirror_mode": {
    "name": "ipython",
    "version": 3
   },
   "file_extension": ".py",
   "mimetype": "text/x-python",
   "name": "python",
   "nbconvert_exporter": "python",
   "pygments_lexer": "ipython3",
   "version": "3.10.1"
  }
 },
 "nbformat": 4,
 "nbformat_minor": 5
}
